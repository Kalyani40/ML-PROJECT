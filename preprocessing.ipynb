{
 "cells": [
  {
   "cell_type": "code",
   "execution_count": 1,
   "id": "e3289462-35b1-438a-ae3c-b849de9b0868",
   "metadata": {},
   "outputs": [],
   "source": [
    "import pandas as pd\n",
    "import numpy as np\n",
    "import pickle\n",
    "from sklearn.model_selection import train_test_split\n",
    "from sklearn.preprocessing import OneHotEncoder\n",
    "from sklearn.compose import ColumnTransformer\n",
    "from sklearn.preprocessing import StandardScaler"
   ]
  },
  {
   "cell_type": "code",
   "execution_count": 2,
   "id": "ac47b0f7-312a-4ce0-b1e8-f22f023a9348",
   "metadata": {},
   "outputs": [
    {
     "data": {
      "text/html": [
       "<div>\n",
       "<style scoped>\n",
       "    .dataframe tbody tr th:only-of-type {\n",
       "        vertical-align: middle;\n",
       "    }\n",
       "\n",
       "    .dataframe tbody tr th {\n",
       "        vertical-align: top;\n",
       "    }\n",
       "\n",
       "    .dataframe thead th {\n",
       "        text-align: right;\n",
       "    }\n",
       "</style>\n",
       "<table border=\"1\" class=\"dataframe\">\n",
       "  <thead>\n",
       "    <tr style=\"text-align: right;\">\n",
       "      <th></th>\n",
       "      <th>Area</th>\n",
       "      <th>Item</th>\n",
       "      <th>Year</th>\n",
       "      <th>hg/ha_yield</th>\n",
       "      <th>average_rain_fall_mm_per_year</th>\n",
       "      <th>pesticides_tonnes</th>\n",
       "      <th>avg_temp</th>\n",
       "    </tr>\n",
       "  </thead>\n",
       "  <tbody>\n",
       "    <tr>\n",
       "      <th>0</th>\n",
       "      <td>Albania</td>\n",
       "      <td>Maize</td>\n",
       "      <td>1990</td>\n",
       "      <td>36613</td>\n",
       "      <td>1485</td>\n",
       "      <td>121.0</td>\n",
       "      <td>16.37</td>\n",
       "    </tr>\n",
       "    <tr>\n",
       "      <th>1</th>\n",
       "      <td>Albania</td>\n",
       "      <td>Potatoes</td>\n",
       "      <td>1990</td>\n",
       "      <td>66667</td>\n",
       "      <td>1485</td>\n",
       "      <td>121.0</td>\n",
       "      <td>16.37</td>\n",
       "    </tr>\n",
       "    <tr>\n",
       "      <th>2</th>\n",
       "      <td>Albania</td>\n",
       "      <td>Rice, paddy</td>\n",
       "      <td>1990</td>\n",
       "      <td>23333</td>\n",
       "      <td>1485</td>\n",
       "      <td>121.0</td>\n",
       "      <td>16.37</td>\n",
       "    </tr>\n",
       "    <tr>\n",
       "      <th>3</th>\n",
       "      <td>Albania</td>\n",
       "      <td>Sorghum</td>\n",
       "      <td>1990</td>\n",
       "      <td>12500</td>\n",
       "      <td>1485</td>\n",
       "      <td>121.0</td>\n",
       "      <td>16.37</td>\n",
       "    </tr>\n",
       "    <tr>\n",
       "      <th>4</th>\n",
       "      <td>Albania</td>\n",
       "      <td>Soybeans</td>\n",
       "      <td>1990</td>\n",
       "      <td>7000</td>\n",
       "      <td>1485</td>\n",
       "      <td>121.0</td>\n",
       "      <td>16.37</td>\n",
       "    </tr>\n",
       "  </tbody>\n",
       "</table>\n",
       "</div>"
      ],
      "text/plain": [
       "      Area         Item  Year  hg/ha_yield  average_rain_fall_mm_per_year  \\\n",
       "0  Albania        Maize  1990        36613                           1485   \n",
       "1  Albania     Potatoes  1990        66667                           1485   \n",
       "2  Albania  Rice, paddy  1990        23333                           1485   \n",
       "3  Albania      Sorghum  1990        12500                           1485   \n",
       "4  Albania     Soybeans  1990         7000                           1485   \n",
       "\n",
       "   pesticides_tonnes  avg_temp  \n",
       "0              121.0     16.37  \n",
       "1              121.0     16.37  \n",
       "2              121.0     16.37  \n",
       "3              121.0     16.37  \n",
       "4              121.0     16.37  "
      ]
     },
     "execution_count": 2,
     "metadata": {},
     "output_type": "execute_result"
    }
   ],
   "source": [
    "df = pd.read_csv(\"yield.csv\")\n",
    "df.head()"
   ]
  },
  {
   "cell_type": "code",
   "execution_count": 3,
   "id": "defb058b-4bc3-4566-a317-d97237efa8c5",
   "metadata": {},
   "outputs": [
    {
     "data": {
      "text/plain": [
       "Index(['Area', 'Item', 'Year', 'hg/ha_yield', 'average_rain_fall_mm_per_year',\n",
       "       'pesticides_tonnes', 'avg_temp'],\n",
       "      dtype='object')"
      ]
     },
     "execution_count": 3,
     "metadata": {},
     "output_type": "execute_result"
    }
   ],
   "source": [
    "df.columns"
   ]
  },
  {
   "cell_type": "code",
   "execution_count": 4,
   "id": "dd1b9a45-2c2a-4611-ad2a-a902205638ce",
   "metadata": {},
   "outputs": [],
   "source": [
    "col = ['Year','average_rain_fall_mm_per_year','pesticides_tonnes', 'avg_temp','Area', 'Item', 'hg/ha_yield']"
   ]
  },
  {
   "cell_type": "code",
   "execution_count": 5,
   "id": "e5442c40-93cc-489b-8360-4947691f560a",
   "metadata": {},
   "outputs": [],
   "source": [
    "df = df[col]"
   ]
  },
  {
   "cell_type": "code",
   "execution_count": 6,
   "id": "d619f344-e677-4217-84ef-2962d8a492df",
   "metadata": {},
   "outputs": [
    {
     "data": {
      "text/html": [
       "<div>\n",
       "<style scoped>\n",
       "    .dataframe tbody tr th:only-of-type {\n",
       "        vertical-align: middle;\n",
       "    }\n",
       "\n",
       "    .dataframe tbody tr th {\n",
       "        vertical-align: top;\n",
       "    }\n",
       "\n",
       "    .dataframe thead th {\n",
       "        text-align: right;\n",
       "    }\n",
       "</style>\n",
       "<table border=\"1\" class=\"dataframe\">\n",
       "  <thead>\n",
       "    <tr style=\"text-align: right;\">\n",
       "      <th></th>\n",
       "      <th>Year</th>\n",
       "      <th>average_rain_fall_mm_per_year</th>\n",
       "      <th>pesticides_tonnes</th>\n",
       "      <th>avg_temp</th>\n",
       "      <th>Area</th>\n",
       "      <th>Item</th>\n",
       "      <th>hg/ha_yield</th>\n",
       "    </tr>\n",
       "  </thead>\n",
       "  <tbody>\n",
       "    <tr>\n",
       "      <th>0</th>\n",
       "      <td>1990</td>\n",
       "      <td>1485</td>\n",
       "      <td>121.0</td>\n",
       "      <td>16.37</td>\n",
       "      <td>Albania</td>\n",
       "      <td>Maize</td>\n",
       "      <td>36613</td>\n",
       "    </tr>\n",
       "    <tr>\n",
       "      <th>1</th>\n",
       "      <td>1990</td>\n",
       "      <td>1485</td>\n",
       "      <td>121.0</td>\n",
       "      <td>16.37</td>\n",
       "      <td>Albania</td>\n",
       "      <td>Potatoes</td>\n",
       "      <td>66667</td>\n",
       "    </tr>\n",
       "    <tr>\n",
       "      <th>2</th>\n",
       "      <td>1990</td>\n",
       "      <td>1485</td>\n",
       "      <td>121.0</td>\n",
       "      <td>16.37</td>\n",
       "      <td>Albania</td>\n",
       "      <td>Rice, paddy</td>\n",
       "      <td>23333</td>\n",
       "    </tr>\n",
       "    <tr>\n",
       "      <th>3</th>\n",
       "      <td>1990</td>\n",
       "      <td>1485</td>\n",
       "      <td>121.0</td>\n",
       "      <td>16.37</td>\n",
       "      <td>Albania</td>\n",
       "      <td>Sorghum</td>\n",
       "      <td>12500</td>\n",
       "    </tr>\n",
       "    <tr>\n",
       "      <th>4</th>\n",
       "      <td>1990</td>\n",
       "      <td>1485</td>\n",
       "      <td>121.0</td>\n",
       "      <td>16.37</td>\n",
       "      <td>Albania</td>\n",
       "      <td>Soybeans</td>\n",
       "      <td>7000</td>\n",
       "    </tr>\n",
       "  </tbody>\n",
       "</table>\n",
       "</div>"
      ],
      "text/plain": [
       "   Year  average_rain_fall_mm_per_year  pesticides_tonnes  avg_temp     Area  \\\n",
       "0  1990                           1485              121.0     16.37  Albania   \n",
       "1  1990                           1485              121.0     16.37  Albania   \n",
       "2  1990                           1485              121.0     16.37  Albania   \n",
       "3  1990                           1485              121.0     16.37  Albania   \n",
       "4  1990                           1485              121.0     16.37  Albania   \n",
       "\n",
       "          Item  hg/ha_yield  \n",
       "0        Maize        36613  \n",
       "1     Potatoes        66667  \n",
       "2  Rice, paddy        23333  \n",
       "3      Sorghum        12500  \n",
       "4     Soybeans         7000  "
      ]
     },
     "execution_count": 6,
     "metadata": {},
     "output_type": "execute_result"
    }
   ],
   "source": [
    "df.head()"
   ]
  },
  {
   "cell_type": "code",
   "execution_count": 7,
   "id": "1d668c1d-fc18-4a00-af79-e74294868171",
   "metadata": {},
   "outputs": [],
   "source": [
    "#splitting data\n",
    "X = df.drop('hg/ha_yield', axis = 1)\n",
    "y = df['hg/ha_yield']"
   ]
  },
  {
   "cell_type": "code",
   "execution_count": 8,
   "id": "5de7cd94-2ca1-4c6b-a488-18de1132a900",
   "metadata": {},
   "outputs": [
    {
     "data": {
      "text/plain": [
       "(25932, 6)"
      ]
     },
     "execution_count": 8,
     "metadata": {},
     "output_type": "execute_result"
    }
   ],
   "source": [
    "X.shape"
   ]
  },
  {
   "cell_type": "code",
   "execution_count": 9,
   "id": "23aea345-8bfd-4a1f-86a2-d48d6ac3f1ba",
   "metadata": {},
   "outputs": [
    {
     "data": {
      "text/plain": [
       "(25932,)"
      ]
     },
     "execution_count": 9,
     "metadata": {},
     "output_type": "execute_result"
    }
   ],
   "source": [
    "y.shape"
   ]
  },
  {
   "cell_type": "code",
   "execution_count": 10,
   "id": "6e767bf0-258d-4798-bf8f-d37d56328ee7",
   "metadata": {},
   "outputs": [],
   "source": [
    "# importing train_split_data\n",
    "X_train, X_test, y_train, y_test = train_test_split(X,y, test_size = 0.2, random_state = 0, shuffle=True)"
   ]
  },
  {
   "cell_type": "code",
   "execution_count": 11,
   "id": "cd26c521-6b7e-437c-9192-d34592c2e76c",
   "metadata": {},
   "outputs": [],
   "source": [
    "#encoding\n",
    "ohe = OneHotEncoder(drop = 'first')\n",
    "scale = StandardScaler()\n",
    "\n",
    "preprocessor = ColumnTransformer(\n",
    "    transformers = [\n",
    "        ('StandardScale', scale, [0,1,2,3]),\n",
    "        ('OneHotEncode', ohe, [4,5])\n",
    "    ], \n",
    "    remainder = 'passthrough'\n",
    ") "
   ]
  },
  {
   "cell_type": "code",
   "execution_count": 12,
   "id": "bbcda22a-2f27-4cd3-8f2e-c8a4469d6836",
   "metadata": {},
   "outputs": [],
   "source": [
    "X_train_dummy = preprocessor.fit_transform(X_train)\n",
    "X_test_dummy  = preprocessor.fit_transform(X_test)"
   ]
  },
  {
   "cell_type": "code",
   "execution_count": 13,
   "id": "d27817f7-4b55-492c-9d6c-adff3f3ee113",
   "metadata": {},
   "outputs": [
    {
     "data": {
      "text/plain": [
       "array(['StandardScale__Year',\n",
       "       'StandardScale__average_rain_fall_mm_per_year',\n",
       "       'StandardScale__pesticides_tonnes', 'StandardScale__avg_temp',\n",
       "       'OneHotEncode__Area_Algeria', 'OneHotEncode__Area_Angola',\n",
       "       'OneHotEncode__Area_Argentina', 'OneHotEncode__Area_Armenia',\n",
       "       'OneHotEncode__Area_Australia', 'OneHotEncode__Area_Austria',\n",
       "       'OneHotEncode__Area_Azerbaijan', 'OneHotEncode__Area_Bahamas',\n",
       "       'OneHotEncode__Area_Bahrain', 'OneHotEncode__Area_Bangladesh',\n",
       "       'OneHotEncode__Area_Belarus', 'OneHotEncode__Area_Belgium',\n",
       "       'OneHotEncode__Area_Botswana', 'OneHotEncode__Area_Brazil',\n",
       "       'OneHotEncode__Area_Bulgaria', 'OneHotEncode__Area_Burkina Faso',\n",
       "       'OneHotEncode__Area_Burundi', 'OneHotEncode__Area_Cameroon',\n",
       "       'OneHotEncode__Area_Canada',\n",
       "       'OneHotEncode__Area_Central African Republic',\n",
       "       'OneHotEncode__Area_Chile', 'OneHotEncode__Area_Colombia',\n",
       "       'OneHotEncode__Area_Croatia', 'OneHotEncode__Area_Denmark',\n",
       "       'OneHotEncode__Area_Dominican Republic',\n",
       "       'OneHotEncode__Area_Ecuador', 'OneHotEncode__Area_Egypt',\n",
       "       'OneHotEncode__Area_El Salvador', 'OneHotEncode__Area_Eritrea',\n",
       "       'OneHotEncode__Area_Estonia', 'OneHotEncode__Area_Finland',\n",
       "       'OneHotEncode__Area_France', 'OneHotEncode__Area_Germany',\n",
       "       'OneHotEncode__Area_Ghana', 'OneHotEncode__Area_Greece',\n",
       "       'OneHotEncode__Area_Guatemala', 'OneHotEncode__Area_Guinea',\n",
       "       'OneHotEncode__Area_Guyana', 'OneHotEncode__Area_Haiti',\n",
       "       'OneHotEncode__Area_Honduras', 'OneHotEncode__Area_Hungary',\n",
       "       'OneHotEncode__Area_India', 'OneHotEncode__Area_Indonesia',\n",
       "       'OneHotEncode__Area_Iraq', 'OneHotEncode__Area_Ireland',\n",
       "       'OneHotEncode__Area_Italy', 'OneHotEncode__Area_Jamaica',\n",
       "       'OneHotEncode__Area_Japan', 'OneHotEncode__Area_Kazakhstan',\n",
       "       'OneHotEncode__Area_Kenya', 'OneHotEncode__Area_Latvia',\n",
       "       'OneHotEncode__Area_Lebanon', 'OneHotEncode__Area_Lesotho',\n",
       "       'OneHotEncode__Area_Libya', 'OneHotEncode__Area_Lithuania',\n",
       "       'OneHotEncode__Area_Madagascar', 'OneHotEncode__Area_Malawi',\n",
       "       'OneHotEncode__Area_Malaysia', 'OneHotEncode__Area_Mali',\n",
       "       'OneHotEncode__Area_Mauritania', 'OneHotEncode__Area_Mauritius',\n",
       "       'OneHotEncode__Area_Mexico', 'OneHotEncode__Area_Montenegro',\n",
       "       'OneHotEncode__Area_Morocco', 'OneHotEncode__Area_Mozambique',\n",
       "       'OneHotEncode__Area_Namibia', 'OneHotEncode__Area_Nepal',\n",
       "       'OneHotEncode__Area_Netherlands', 'OneHotEncode__Area_New Zealand',\n",
       "       'OneHotEncode__Area_Nicaragua', 'OneHotEncode__Area_Niger',\n",
       "       'OneHotEncode__Area_Norway', 'OneHotEncode__Area_Pakistan',\n",
       "       'OneHotEncode__Area_Papua New Guinea', 'OneHotEncode__Area_Peru',\n",
       "       'OneHotEncode__Area_Poland', 'OneHotEncode__Area_Portugal',\n",
       "       'OneHotEncode__Area_Qatar', 'OneHotEncode__Area_Romania',\n",
       "       'OneHotEncode__Area_Rwanda', 'OneHotEncode__Area_Saudi Arabia',\n",
       "       'OneHotEncode__Area_Senegal', 'OneHotEncode__Area_Slovenia',\n",
       "       'OneHotEncode__Area_South Africa', 'OneHotEncode__Area_Spain',\n",
       "       'OneHotEncode__Area_Sri Lanka', 'OneHotEncode__Area_Sudan',\n",
       "       'OneHotEncode__Area_Suriname', 'OneHotEncode__Area_Sweden',\n",
       "       'OneHotEncode__Area_Switzerland', 'OneHotEncode__Area_Tajikistan',\n",
       "       'OneHotEncode__Area_Thailand', 'OneHotEncode__Area_Tunisia',\n",
       "       'OneHotEncode__Area_Turkey', 'OneHotEncode__Area_Uganda',\n",
       "       'OneHotEncode__Area_Ukraine', 'OneHotEncode__Area_United Kingdom',\n",
       "       'OneHotEncode__Area_Uruguay', 'OneHotEncode__Area_Zambia',\n",
       "       'OneHotEncode__Area_Zimbabwe', 'OneHotEncode__Item_Maize',\n",
       "       'OneHotEncode__Item_Plantains and others',\n",
       "       'OneHotEncode__Item_Potatoes', 'OneHotEncode__Item_Rice, paddy',\n",
       "       'OneHotEncode__Item_Sorghum', 'OneHotEncode__Item_Soybeans',\n",
       "       'OneHotEncode__Item_Sweet potatoes', 'OneHotEncode__Item_Wheat',\n",
       "       'OneHotEncode__Item_Yams'], dtype=object)"
      ]
     },
     "execution_count": 13,
     "metadata": {},
     "output_type": "execute_result"
    }
   ],
   "source": [
    "preprocessor.get_feature_names_out(col[:-1])"
   ]
  },
  {
   "cell_type": "code",
   "execution_count": 14,
   "id": "4961b77e-de27-4dfe-8996-1c55546a02d5",
   "metadata": {},
   "outputs": [
    {
     "ename": "NameError",
     "evalue": "name 'dtr' is not defined",
     "output_type": "error",
     "traceback": [
      "\u001b[1;31m---------------------------------------------------------------------------\u001b[0m",
      "\u001b[1;31mNameError\u001b[0m                                 Traceback (most recent call last)",
      "Cell \u001b[1;32mIn[14], line 1\u001b[0m\n\u001b[1;32m----> 1\u001b[0m pickle\u001b[38;5;241m.\u001b[39mdump(\u001b[43mdtr\u001b[49m, \u001b[38;5;28mopen\u001b[39m(\u001b[38;5;124m\"\u001b[39m\u001b[38;5;124mpreprocesser.pkl\u001b[39m\u001b[38;5;124m\"\u001b[39m,\u001b[38;5;124m\"\u001b[39m\u001b[38;5;124mwb\u001b[39m\u001b[38;5;124m\"\u001b[39m))\n",
      "\u001b[1;31mNameError\u001b[0m: name 'dtr' is not defined"
     ]
    }
   ],
   "source": []
  },
  {
   "cell_type": "code",
   "execution_count": null,
   "id": "b286d3b1-30a3-4eee-8402-6c9df4adb253",
   "metadata": {},
   "outputs": [],
   "source": []
  }
 ],
 "metadata": {
  "kernelspec": {
   "display_name": "Python 3 (ipykernel)",
   "language": "python",
   "name": "python3"
  },
  "language_info": {
   "codemirror_mode": {
    "name": "ipython",
    "version": 3
   },
   "file_extension": ".py",
   "mimetype": "text/x-python",
   "name": "python",
   "nbconvert_exporter": "python",
   "pygments_lexer": "ipython3",
   "version": "3.12.1"
  }
 },
 "nbformat": 4,
 "nbformat_minor": 5
}
